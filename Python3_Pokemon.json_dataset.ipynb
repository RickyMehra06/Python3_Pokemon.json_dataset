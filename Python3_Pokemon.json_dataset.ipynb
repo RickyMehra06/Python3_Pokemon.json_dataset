{
 "cells": [
  {
   "cell_type": "markdown",
   "id": "68061b7f",
   "metadata": {},
   "source": [
    "### Python 3: Pokemon.json dataset\n",
    "\n",
    "Write a program, which would download the data from the provided link, and then read the data and convert that into properly structured data and return it in Excel format.\n",
    "\n",
    "https://raw.githubusercontent.com/Biuni/PokemonGO-Pokedex/master/pokedex.json"
   ]
  },
  {
   "cell_type": "code",
   "execution_count": null,
   "id": "fdda4e1d",
   "metadata": {},
   "outputs": [],
   "source": [
    "import pandas as pd\n",
    "import json, requests\n",
    "import matplotlib.pyplot as plt\n",
    "import numpy as np\n",
    "\n",
    "# USe json viewer to see the structure of data\n",
    "url = \"https://raw.githubusercontent.com/Biuni/PokemonGO-Pokedex/master/pokedex.json\"\n",
    "\n",
    "#data = pd.read_json(url)\n",
    "data = requests.get(url).json()\n",
    "\n",
    "pokemon_data = []\n",
    "\n",
    "for pokemon in data['pokemon']:\n",
    "    pokemon_dict = {\n",
    "        \"ID\": pokemon[\"id\"],\n",
    "        \"Number\": pokemon[\"num\"],\n",
    "        \"Name\": pokemon[\"name\"],\n",
    "        \"Image URL\": pokemon[\"img\"],\n",
    "        \"Type\": \", \".join(pokemon.get(\"type\", [])),\n",
    "        \"Height\": pokemon[\"height\"],\n",
    "        \"Weight\": pokemon[\"weight\"],\n",
    "        \"Candy\": pokemon.get(\"candy\", \"\"),\n",
    "        \"Candy Count\": pokemon.get(\"candy_count\", \"\"),\n",
    "        \"Egg\": pokemon.get(\"egg\", \"\"),\n",
    "        \"Spawn Chance\": pokemon.get(\"spawn_chance\", \"\"),\n",
    "        \"Avg Spawns\": pokemon.get(\"avg_spawns\", \"\"),\n",
    "        \"Spawn Time\": pokemon.get(\"spawn_time\", \"\"),  \n",
    "        \"Multipliers\": \", \".join(str(multiplier) for multiplier in pokemon.get(\"multipliers\") or []),\n",
    "        \"Weaknesses\": \", \".join(pokemon.get(\"weaknesses\", [])),\n",
    "        \"Next Evolution\": \", \".join(evolution.get(\"name\", \"\") for evolution in pokemon.get(\"next_evolution\") or []),\n",
    "        \"Previous Evolution\": \", \".join(evolution.get(\"name\", \"\") for evolution in pokemon.get(\"prev_evolution\") or []),\n",
    "    }\n",
    "    \n",
    "    pokemon_data.append(pokemon_dict)\n",
    "    \n",
    "df = pd.DataFrame(pokemon_data)\n",
    "df = df.replace(\"\", np.nan)\n",
    "display(df.head())\n",
    "\n",
    "df.to_excel(\"Pokemon_data.xlsx\", header= True, index=False)"
   ]
  }
 ],
 "metadata": {
  "kernelspec": {
   "display_name": "Python 3 (ipykernel)",
   "language": "python",
   "name": "python3"
  },
  "language_info": {
   "codemirror_mode": {
    "name": "ipython",
    "version": 3
   },
   "file_extension": ".py",
   "mimetype": "text/x-python",
   "name": "python",
   "nbconvert_exporter": "python",
   "pygments_lexer": "ipython3",
   "version": "3.9.13"
  }
 },
 "nbformat": 4,
 "nbformat_minor": 5
}
